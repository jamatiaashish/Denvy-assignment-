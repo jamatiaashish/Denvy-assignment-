{
  "nbformat": 4,
  "nbformat_minor": 0,
  "metadata": {
    "colab": {
      "provenance": [],
      "authorship_tag": "ABX9TyNiW2r/3XPvh8I1jc2jwswF",
      "include_colab_link": true
    },
    "kernelspec": {
      "name": "python3",
      "display_name": "Python 3"
    },
    "language_info": {
      "name": "python"
    }
  },
  "cells": [
    {
      "cell_type": "markdown",
      "metadata": {
        "id": "view-in-github",
        "colab_type": "text"
      },
      "source": [
        "<a href=\"https://colab.research.google.com/github/jamatiaashish/Denvy-assignment-/blob/main/Set7.ipynb\" target=\"_parent\"><img src=\"https://colab.research.google.com/assets/colab-badge.svg\" alt=\"Open In Colab\"/></a>"
      ]
    },
    {
      "cell_type": "code",
      "execution_count": null,
      "metadata": {
        "id": "Hu7_fakh9G8T",
        "colab": {
          "base_uri": "https://localhost:8080/"
        },
        "outputId": "86dfec53-d2e2-4e27-bd78-1d20f76ed6b7"
      },
      "outputs": [
        {
          "output_type": "stream",
          "name": "stdout",
          "text": [
            "   index  ground_clearance  height category\n",
            "0      1               225    1737      suv\n",
            "1      2               232    1742      suv\n",
            "2      3               175    1472    sedan\n",
            "3      4               168    1375    sedan\n",
            "4      5               222    1710      suv\n"
          ]
        }
      ],
      "source": [
        "import pandas as pd\n",
        "\n",
        "# Load the dataset\n",
        "df = pd.read_excel(\"SET-7.xlsx\")  # Or use 'read_csv' if saved as CSV\n",
        "\n",
        "# Display the dataset\n",
        "print(df.head())"
      ]
    },
    {
      "cell_type": "code",
      "source": [
        "# Check for missing values\n",
        "print(df.isnull().sum())\n",
        "\n",
        "# If any missing values exist, you can handle them like:\n",
        "df = df.dropna()  # or df.fillna(value)"
      ],
      "metadata": {
        "colab": {
          "base_uri": "https://localhost:8080/"
        },
        "id": "hEguVnkRESAt",
        "outputId": "b1cbbb13-d2bd-4196-eb04-b484fdb92871"
      },
      "execution_count": null,
      "outputs": [
        {
          "output_type": "stream",
          "name": "stdout",
          "text": [
            "index               0\n",
            "ground_clearance    0\n",
            "height              0\n",
            "category            0\n",
            "dtype: int64\n"
          ]
        }
      ]
    },
    {
      "cell_type": "code",
      "source": [
        "from sklearn.model_selection import train_test_split\n",
        "from sklearn.tree import DecisionTreeClassifier\n",
        "from sklearn.metrics import accuracy_score\n",
        "\n",
        "# Features and label\n",
        "X = df[['ground_clearance', 'height']]\n",
        "y = df['category']\n",
        "\n",
        "# 70-30 split\n",
        "X_train, X_test, y_train, y_test = train_test_split(X, y, test_size=0.3, random_state=42)\n",
        "\n",
        "# Train classifier\n",
        "model_70 = DecisionTreeClassifier()\n",
        "model_70.fit(X_train, y_train)\n",
        "\n",
        "# Predict & Accuracy\n",
        "y_pred_70 = model_70.predict(X_test)\n",
        "accuracy_70 = accuracy_score(y_test, y_pred_70)\n",
        "\n",
        "print(f\"Accuracy with 70-30 split: {accuracy_70:.2f}\")"
      ],
      "metadata": {
        "colab": {
          "base_uri": "https://localhost:8080/"
        },
        "id": "8vSd2K4DEXIx",
        "outputId": "7e722fbb-dc15-41b0-c802-c026e90f3c60"
      },
      "execution_count": null,
      "outputs": [
        {
          "output_type": "stream",
          "name": "stdout",
          "text": [
            "Accuracy with 70-30 split: 0.88\n"
          ]
        }
      ]
    },
    {
      "cell_type": "code",
      "source": [
        "# 80-20 split\n",
        "X_train_80, X_test_20, y_train_80, y_test_20 = train_test_split(X, y, test_size=0.2, random_state=42)\n",
        "\n",
        "# Train classifier\n",
        "model_80 = DecisionTreeClassifier()\n",
        "model_80.fit(X_train_80, y_train_80)\n",
        "\n",
        "# Predict & Accuracy\n",
        "y_pred_80 = model_80.predict(X_test_20)\n",
        "accuracy_80 = accuracy_score(y_test_20, y_pred_80)\n",
        "\n",
        "print(f\"Accuracy with 80-20 split: {accuracy_80:.2f}\")"
      ],
      "metadata": {
        "colab": {
          "base_uri": "https://localhost:8080/"
        },
        "id": "bQpHAJuWEtuO",
        "outputId": "fa2f9b7f-369d-4d32-dee8-1ff99ceabdbe"
      },
      "execution_count": null,
      "outputs": [
        {
          "output_type": "stream",
          "name": "stdout",
          "text": [
            "Accuracy with 80-20 split: 0.80\n"
          ]
        }
      ]
    }
  ]
}